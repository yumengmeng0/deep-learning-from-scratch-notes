{
 "cells": [
  {
   "cell_type": "markdown",
   "source": [
    "# 第8章 深度学习\n",
    "\n",
    "http://rodrigob.github.io/are_we_there_yet/build/classification_datasets_results.html\n",
    "\n",
    "## 8.1 加深网络\n",
    "\n",
    "### 8.1.1 向更深的网络出发\n",
    "\n",
    "![](../images/图8-1.进行手写数字识别的深度CNN.PNG)\n",
    "图8-1　进行手写数字识别的深度CNN\n",
    "\n",
    "网络特点:\n",
    "\n",
    "* 基于3×3的小型滤波器的卷积层。\n",
    "* 激活函数是ReLU。\n",
    "* 全连接层的后面使用Dropout层。\n",
    "* 基于Adam的最优化。\n",
    "* 使用He初始值作为权重初始值。\n",
    "\n",
    "### 8.1.2 进一步提高识别精度\n",
    "\n",
    "[What is the class of this image](http://rodrigob.github.io/are_we_there_yet/build/classification_datasets_results.html)\n",
    "\n",
    "\n",
    "集成学习、学习率衰减、Data Augmentation（数据扩充）\n",
    "\n",
    "### 8.1.3 加深层的动机\n",
    "\n",
    "加深层的好处：\n",
    "* 减少网络的参数数量。\n",
    "    与没有加深层的网络相比，加深了层的网络可以用更少的参数达到同等水平（或者更强）的表现力。\n",
    "* 使学习更加高效。与没有加深层的网络相比，通过加深层，可以减少学习数据，从而高效地进行学习。\n",
    "* 通过加深层，可以分层次地传递信息，\n",
    "\n",
    "叠加小型滤波器来加深网络的好处是可以减少参数的数量，扩大**感受野**（receptive field，给神经元施加变化的某个局部空间区域）。"
   ],
   "metadata": {
    "collapsed": false
   }
  },
  {
   "cell_type": "markdown",
   "source": [
    "## 8.2 深度学习的历史\n",
    "\n",
    "大规模图像识别大赛ILSVRC（ImageNet Large Scale Visual Recognition Challenge）\n",
    "\n",
    "### 8.2.1 ImageNet\n",
    "\n",
    "ImageNet是拥有超过100万张图像的数据集。\n",
    "\n",
    "![](../images/图8-7.大规模数据集ImageNet的数据例.PNG)\n",
    "图8-7.大规模数据集ImageNet的数据例\n",
    "\n",
    "![](../images/图8-8.ILSCRV优胜队伍的成绩演变.PNG)\n",
    "图8-8.ILSCRV优胜队伍的成绩演变\n",
    "\n",
    "### 8.2.2　VGG（VGG是Oxford的Visual Geometry Group的组提出的）\n",
    "\n",
    "VGG是由卷积层和池化层构成的基础的CNN。\n",
    "它的特点在于将有权重的层（卷积层或者全连接层）叠加至16层（或者19层），\n",
    "具备了深度（根据层的深度，有时也称为“VGG16”或“VGG19”）。\n",
    "\n",
    "![](../images/图8-9.VGG.PNG)\n",
    "图8-9 VGG\n",
    "\n",
    "### 8.2.3 GoogleNet\n",
    "\n",
    "![](../images/图8-10.GoogLeNet.PNG)\n",
    "图8-10.GoogLeNet\n",
    "\n",
    "GoogLeNet在横向上有“宽度”，这称为“Inception结构”。\n",
    "Inception结构使用了多个大小不同的滤波器（和池化），最后再合并它们的结果。GoogLeNet的特征就是将这个Inception结构用作一个构件（构成元素）。\n",
    "\n",
    "![](../images/图8-11.GoogLeNet的Inception结构.PNG)\n",
    "图8-11.GoogLeNet的Inception结构\n",
    "\n",
    "### 8.2.4 ResNet\n",
    "\n",
    "特点：具有比以前的网络更深的结构。\n",
    "\n",
    "在深度学习中，过度加深层的话，很多情况下学习将不能顺利进行，导致最终性能不佳。ResNet中，\n",
    "为了解决这类问题，导入了“快捷结构”（也称为“捷径”或“小路”）。导入这\n",
    "个快捷结构后，就可以随着层的加深而不断提高性能了（当然，层的加深也是有限度的）。\n",
    "\n",
    "![](../images/图8-12.ResNet的构成要素.PNG)\n",
    "图8-12.ResNet的构成要素\n",
    "\n",
    "通过引入这种快捷结构，即使加深层，也能高效地学习。这是因为，通过快\n",
    "捷结构，反向传播时信号可以无衰减地传递。\n",
    "\n",
    "实践中经常会灵活应用使用ImageNet这个巨大的数据集学习到的权\n",
    "重数据，这称为迁移学习，将学习完的权重（的一部分）复制到其他\n",
    "神经网络，进行再学习（fine tuning）。"
   ],
   "metadata": {
    "collapsed": false
   }
  },
  {
   "cell_type": "markdown",
   "source": [
    "## 8.3 深度学习的高速化\n",
    "\n",
    "### 8.3.1　需要努力解决的问题\n",
    "\n",
    "卷积层的处理时间加起来占GPU整体的95%，占CPU整体的89%。\n",
    "如何高速、高效地进行卷积层中的运算是深度学习的一大课题。\n",
    "\n",
    "![](../images/图8-14.AlexNet的forward处理中各层的时间比.PNG)\n",
    "图8-14.AlexNet的forward处理中各层的时间比\n",
    "\n",
    "卷积层中进行的运算可以追溯至乘积累加运算。深度学习的高速化的主要课题就变成了如何高速、高效地进行大量的乘积累加运算。\n",
    "\n",
    "\n",
    "### 8.3.2　基于GPU的高速化\n",
    "\n",
    "### 8.3.3 分布式学习\n",
    "\n",
    "### 8.3.4　运算精度的位数缩减\n",
    "\n",
    "16位的半精度浮点数（half float）"
   ],
   "metadata": {
    "collapsed": false
   }
  },
  {
   "cell_type": "markdown",
   "source": [
    "## 8.4 深度学习的应用案例\n",
    "\n",
    "### 8.4.1 物体检测\n",
    "\n",
    "### 8.4.2 图像分割\n",
    "\n",
    "图像分割是指在像素水平上对图像进行分类。\n",
    "\n",
    "![](../images/图8-19.图像分割的例子.PNG)\n",
    "图8-19　图像分割的例子：左边是输入图像，右边是监督用的带标签图像\n",
    "\n",
    "![](../images/图8-20.FCN的概略图.PNG)\n",
    "为FCN（Fully Convolutional Network）的方法。该方法通过一次forward处理，对所有像素进行分类。\n",
    "\n",
    "### 8.4.3 图像标题的生成\n",
    "\n",
    "\n",
    "![](../images/图8-21.基于深度学习的图像标题生成的例子.PNG)\n",
    "图8-21　基于深度学习的图像标题生成的例子\n",
    "一个基于深度学习生成图像标题的代表性方法是被称为NIC（Neural Image Caption）的模型。\n",
    "\n",
    "\n",
    "![](../images/图8-22.Neural%20Image%20Caption（NIC）的整体结构.PNG)\n",
    "NIC由深层的CNN和处理自然语言的RNN（Recurrent Neural Network）构成。RNN是呈递归式连接的网络，经常被用于自然语言、时间序列数据等连续性的数据上。\n",
    "\n",
    "\n",
    "\n",
    "将组合图像和自然语言等多种信息进行的处理称为**多模态处理**。\n",
    "\n",
    "\n",
    "RNN的R表示Recurrent（递归的）。这个递归指的是神经网络的递归\n",
    "的网络结构。根据这个递归结构，神经网络会受到之前生成的信息\n",
    "的影响（换句话说，会记忆过去的信息），这是 RNN的特征。"
   ],
   "metadata": {
    "collapsed": false
   }
  },
  {
   "cell_type": "markdown",
   "source": [
    "## 8.5 深度学习的未来\n",
    "\n",
    "### 8.5.1 图像风格变换\n",
    "\n",
    "有一项研究是使用深度学习来“绘制”带有艺术气息的画。\n",
    "\n",
    "[A Neural Algorithm of Artistic Style](https://arxiv.org/abs/1508.06576)\n",
    "\n",
    "### 8.5.2 图像的生成\n",
    "\n",
    "![](../images/图8-24.基于DCGAN生成的新的卧室图像.PNG)\n",
    "图8-24　基于DCGAN生成的新的卧室图像\n",
    "\n",
    "\n",
    "\n",
    "有一种研究是生成新的图像时不需要任何图像（虽然需要事先使用大量的图像进行学习，但在“画”新图像时不需要任何图像）。\n",
    "\n",
    "深度卷积生成对抗网络于 DCGAN（Deep Convolutional Generative Adversarial Network）\n",
    "\n",
    "DCGAN中使用了深度学习，其技术要点是使用了Generator（生成者）\n",
    "和Discriminator（识别者）这两个神经网络。Generator生成近似真品的图\n",
    "像，Discriminator判别它是不是真图像（是Generator生成的图像还是实际\n",
    "拍摄的图像）。像这样，通过让两者以竞争的方式学习，Generator会学习到\n",
    "更加精妙的图像作假技术，Discriminator则会成长为能以更高精度辨别真假\n",
    "的鉴定师。两者互相切磋、共同成长，这是GAN（Generative Adversarial\n",
    "Network）这个技术的有趣之处。\n",
    "\n",
    "监督学习\n",
    "无监督学习\n",
    "\n",
    "\n",
    "### 8.5.3 自动驾驶\n",
    "\n",
    "### 8.5.4　Deep Q-Network（强化学习）\n",
    "\n",
    "让计算机也在摸索试验的过程中自主学习，这称为**强化学习（reinforcement learning）**。\n",
    "\n",
    "![](../images/图8-26.强化学习的基本框架：代理自主地进行学习，以获得更好的报酬.PNG)\n",
    "强化学习的基本框架是，代理（Agent）根据环境选择行动，然后通过这\n",
    "个行动改变环境。根据环境的变化，代理获得某种报酬。强化学习的目的是\n",
    "决定代理的行动方针，以获得更好的报酬。\n",
    "\n",
    "\n",
    "在使用了深度学习的强化学习方法中，有一个叫作Deep Q-Network（通称DQN）的方法。"
   ],
   "metadata": {
    "collapsed": false
   }
  },
  {
   "cell_type": "markdown",
   "source": [
    "## 8.6 小结\n",
    "\n",
    "* 对于大多数的问题，都可以期待通过加深网络来提高性能。\n",
    "* 在最近的图像识别大赛ILSVRC中，基于深度学习的方法独占鳌头，使用的网络也在深化。\n",
    "* VGG、GoogLeNet、ResNet等是几个著名的网络。\n",
    "* 基于GPU、分布式学习、位数精度的缩减，可以实现深度学习的高速化。\n",
    "* 深度学习（神经网络）不仅可以用于物体识别，还可以用于物体检测、图像分割。\n",
    "* 深度学习的应用包括图像标题的生成、图像的生成、强化学习等。最近，深度学习在自动驾驶上的应用也备受期待。"
   ],
   "metadata": {
    "collapsed": false
   }
  },
  {
   "cell_type": "markdown",
   "source": [
    "\n"
   ],
   "metadata": {
    "collapsed": false
   }
  }
 ],
 "metadata": {
  "kernelspec": {
   "display_name": "Python 3",
   "language": "python",
   "name": "python3"
  },
  "language_info": {
   "codemirror_mode": {
    "name": "ipython",
    "version": 2
   },
   "file_extension": ".py",
   "mimetype": "text/x-python",
   "name": "python",
   "nbconvert_exporter": "python",
   "pygments_lexer": "ipython2",
   "version": "2.7.6"
  }
 },
 "nbformat": 4,
 "nbformat_minor": 0
}
