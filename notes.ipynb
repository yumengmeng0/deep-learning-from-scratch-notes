{
 "cells": [
  {
   "cell_type": "code",
   "execution_count": 2,
   "metadata": {
    "collapsed": true,
    "ExecuteTime": {
     "start_time": "2023-05-16T15:58:56.250400Z",
     "end_time": "2023-05-16T15:58:56.274281Z"
    }
   },
   "outputs": [
    {
     "data": {
      "text/plain": "['C:\\\\Program Files\\\\JetBrains\\\\PyCharm 2022.3.2\\\\plugins\\\\python\\\\helpers-pro\\\\jupyter_debug',\n 'C:\\\\Program Files\\\\JetBrains\\\\PyCharm 2022.3.2\\\\plugins\\\\python\\\\helpers\\\\pydev',\n 'D:\\\\workspace\\\\deep-learning-from-scratch-notes',\n 'D:\\\\workspace\\\\deep-learning-from-scratch-notes',\n 'C:\\\\Users\\\\ymm\\\\anaconda3\\\\envs\\\\d2l\\\\python39.zip',\n 'C:\\\\Users\\\\ymm\\\\anaconda3\\\\envs\\\\d2l\\\\DLLs',\n 'C:\\\\Users\\\\ymm\\\\anaconda3\\\\envs\\\\d2l\\\\lib',\n 'C:\\\\Users\\\\ymm\\\\anaconda3\\\\envs\\\\d2l',\n '',\n 'C:\\\\Users\\\\ymm\\\\anaconda3\\\\envs\\\\d2l\\\\lib\\\\site-packages',\n 'C:\\\\Users\\\\ymm\\\\anaconda3\\\\envs\\\\d2l\\\\lib\\\\site-packages\\\\win32',\n 'C:\\\\Users\\\\ymm\\\\anaconda3\\\\envs\\\\d2l\\\\lib\\\\site-packages\\\\win32\\\\lib',\n 'C:\\\\Users\\\\ymm\\\\anaconda3\\\\envs\\\\d2l\\\\lib\\\\site-packages\\\\Pythonwin']"
     },
     "execution_count": 2,
     "metadata": {},
     "output_type": "execute_result"
    }
   ],
   "source": [
    "import sys\n",
    "\n",
    "sys.path"
   ]
  },
  {
   "cell_type": "markdown",
   "source": [
    "\n",
    "$$  y = \\left\\{\\begin{matrix}\n",
    "x \\ (x>0)\n",
    " \\\\\n",
    "0 \\ (x\\leqslant0)\n",
    "\\end{matrix}\\right. \\tag{5.7}\n",
    "$$"
   ],
   "metadata": {
    "collapsed": false
   }
  },
  {
   "cell_type": "code",
   "execution_count": 1,
   "outputs": [
    {
     "data": {
      "text/plain": "{}"
     },
     "execution_count": 1,
     "metadata": {},
     "output_type": "execute_result"
    }
   ],
   "source": [
    "activations = {}\n",
    "activations"
   ],
   "metadata": {
    "collapsed": false,
    "ExecuteTime": {
     "start_time": "2023-06-14T10:22:30.480446Z",
     "end_time": "2023-06-14T10:22:30.496531Z"
    }
   }
  },
  {
   "cell_type": "code",
   "execution_count": null,
   "outputs": [],
   "source": [],
   "metadata": {
    "collapsed": false
   }
  }
 ],
 "metadata": {
  "kernelspec": {
   "display_name": "Python 3",
   "language": "python",
   "name": "python3"
  },
  "language_info": {
   "codemirror_mode": {
    "name": "ipython",
    "version": 2
   },
   "file_extension": ".py",
   "mimetype": "text/x-python",
   "name": "python",
   "nbconvert_exporter": "python",
   "pygments_lexer": "ipython2",
   "version": "2.7.6"
  }
 },
 "nbformat": 4,
 "nbformat_minor": 0
}
