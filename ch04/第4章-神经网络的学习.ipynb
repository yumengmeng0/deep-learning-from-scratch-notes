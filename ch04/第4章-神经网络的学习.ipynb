{
 "cells": [
  {
   "cell_type": "markdown",
   "source": [
    "# 第4章 神经网络的学习\n",
    "\n",
    "“学习”是指从训练数据中自动获取最优权重参数的过程。\n",
    "\n",
    "为了使神经网络能进行学习，将导入损失函数这一指标。\n",
    "学习的目的就是以该损失函数为基准，找出能使它的值达到最小的权重参数。\n",
    "为了找出尽可能小的损失函数的值，利用了函数斜率的梯度法。"
   ],
   "metadata": {
    "collapsed": false
   }
  },
  {
   "cell_type": "markdown",
   "source": [
    "## 4.1 从数据中学习\n",
    "\n",
    "神经网络的特征就是可以从数据中学习。\n",
    "学习：从训练数据中自动获取最优权重参数的过程。"
   ],
   "metadata": {
    "collapsed": false
   }
  },
  {
   "cell_type": "markdown",
   "source": [
    "### 4.1.1 数据驱动\n",
    "\n",
    "一种方案是，先从图像中提取特征量，再用机器学习技术学习这些特征量的模式。这里所说的“特征量”是指可以\n",
    "从输入数据（输入图像）中准确地提取本质数据（重要的数据）的转换器。\n",
    "\n",
    "![从人工设计规则转变为由机器从数据中学习](../images/图4-2.从人工设计规则转变为由机器从数据中学习：没有人为介入的方块用灰色表示.PNG)\n",
    "\n",
    "深度学习有时也称为**端到端机器学习**（end-to-end machinelearning）。\n",
    "这里所说的**端到端**是指从一端到另一端的意思，也就是从原始数据（输入）中获得目标结果（输出）的意思。\n",
    "\n",
    "神经网络的优点是对所有的问题都可以用同样的流程来解决。"
   ],
   "metadata": {
    "collapsed": false
   }
  },
  {
   "cell_type": "markdown",
   "source": [
    "### 4.1.2 训练数据和测试数据\n",
    "\n",
    "为了正确评价模型的**泛化能力**，就必须划分**训练数据**和**测试数据**。\n",
    "训练数据也可以称为**监督数据**。\n",
    "\n",
    "**泛化能力**是指处理未被观察过的数据（不包含在训练数据中的数据）的能力。\n",
    "获得泛化能力是机器学习的最终目标。\n",
    "\n",
    "只对某个数据集过度拟合的状态称为**过拟合**（over fitting）。"
   ],
   "metadata": {
    "collapsed": false
   }
  },
  {
   "cell_type": "markdown",
   "source": [
    "## 4.2 损失函数\n",
    "\n",
    "神经网络以某个指标为线索寻找最优权重参数。神经网络的学习中所用的指标称为**损失函数**（loss function）。\n",
    "这个损失函数可以使用任意函数，但一般用均方误差和交叉熵误差等。"
   ],
   "metadata": {
    "collapsed": false
   }
  },
  {
   "cell_type": "markdown",
   "source": [
    "### 4.2.1 均方误差\n",
    "\n",
    "**均方误差**（mean squared error）\n",
    "\n",
    "$$ E = \\frac{1}{2} \\sum_{k}(y_k - t_k)^2 \\tag{4.1} $$\n",
    "\n",
    "$y_k$ 是表示神经网络的输出，$t_k$ 表示监督数据，$k$ 表示数据的维数。\n"
   ],
   "metadata": {
    "collapsed": false
   }
  },
  {
   "cell_type": "code",
   "execution_count": 1,
   "outputs": [],
   "source": [
    "y = [0.1, 0.05, 0.6, 0.0, 0.05, 0.1, 0.0, 0.1, 0.0, 0.0]\n",
    "t = [0, 0, 1, 0, 0, 0, 0, 0, 0, 0]"
   ],
   "metadata": {
    "collapsed": false,
    "ExecuteTime": {
     "start_time": "2023-05-31T09:18:50.100735Z",
     "end_time": "2023-05-31T09:18:50.106743Z"
    }
   }
  },
  {
   "cell_type": "markdown",
   "source": [
    "将正确解标签表示为 1，其他标签表示为 0 的表示方法称为 **one-hot表示**。"
   ],
   "metadata": {
    "collapsed": false
   }
  },
  {
   "cell_type": "code",
   "execution_count": 2,
   "outputs": [],
   "source": [
    "import numpy as np\n",
    "\n",
    "\n",
    "# 均方误差\n",
    "def mean_squared_error(y, t):\n",
    "    return 0.5 * np.sum((y - t) ** 2)"
   ],
   "metadata": {
    "collapsed": false,
    "ExecuteTime": {
     "start_time": "2023-05-31T09:18:50.107718Z",
     "end_time": "2023-05-31T09:18:50.328003Z"
    }
   }
  },
  {
   "cell_type": "code",
   "execution_count": 3,
   "outputs": [
    {
     "data": {
      "text/plain": "0.09750000000000003"
     },
     "execution_count": 3,
     "metadata": {},
     "output_type": "execute_result"
    }
   ],
   "source": [
    "# 设 “2” 为正确解\n",
    "t = [0, 0, 1, 0, 0, 0, 0, 0, 0, 0]\n",
    "# 例 1：“2” 的概率最高的情况（0.6）\n",
    "y = [0.1, 0.05, 0.6, 0.0, 0.05, 0.1, 0.0, 0.1, 0.0, 0.0]\n",
    "mean_squared_error(np.array(y), np.array(t))"
   ],
   "metadata": {
    "collapsed": false,
    "ExecuteTime": {
     "start_time": "2023-05-31T09:18:50.330000Z",
     "end_time": "2023-05-31T09:18:50.342964Z"
    }
   }
  },
  {
   "cell_type": "code",
   "execution_count": 4,
   "outputs": [
    {
     "data": {
      "text/plain": "0.5975"
     },
     "execution_count": 4,
     "metadata": {},
     "output_type": "execute_result"
    }
   ],
   "source": [
    "# 例 2：“7” 的概率最高的情况（0.6）\n",
    "y = [0.1, 0.05, 0.1, 0.0, 0.05, 0.1, 0.0, 0.6, 0.0, 0.0]\n",
    "mean_squared_error(np.array(y), np.array(t))"
   ],
   "metadata": {
    "collapsed": false,
    "ExecuteTime": {
     "start_time": "2023-05-31T09:18:50.345958Z",
     "end_time": "2023-05-31T09:18:50.432882Z"
    }
   }
  },
  {
   "cell_type": "markdown",
   "source": [
    "### 4.2.2 交叉熵误差\n",
    "\n",
    "**交叉熵误差**（cross entropy error）\n",
    "$$ E = - \\sum_k t_k \\log y_k \\tag{4.2} $$\n",
    "\n",
    "$log$ 表示以 $e$ 为底数的自然对数（$log_e$）。$y_k$ 是神经网络的输出，$t_k$ 是正确解标签。\n",
    "并且，$t_k$ 中只有正确解标签的索引为 1，其他均为 0（one-hot 表示）。\n",
    "实际上只计算对应正确解标签的输出的自然对数。\n",
    "\n",
    "交叉熵误差的值是由正确解标签所对应的输出结果决定的。"
   ],
   "metadata": {
    "collapsed": false
   }
  },
  {
   "cell_type": "markdown",
   "source": [
    "![图 4-3 自然对数 y = log x 的图像](../images/图4-3.自然对数y=logx的图像.PNG)\n",
    "图4-3.自然对数$y=\\log x$的图像\n",
    "\n",
    "x 等于 1 时，y 为 0；随着 x 向 0 靠近，y 逐渐变小。"
   ],
   "metadata": {
    "collapsed": false
   }
  },
  {
   "cell_type": "markdown",
   "source": [
    "函数内部在计算 np.log 时，加上了一个微小值 delta。\n",
    "因为，当出现 np.log(0) 时，np.log(0) 会变为负无限大的 -inf，\n",
    "这样一来就会导致后续计算无法进行。作为保护性对策，添加一个微小值可以防止负无限大的发生。"
   ],
   "metadata": {
    "collapsed": false
   }
  },
  {
   "cell_type": "code",
   "execution_count": 5,
   "outputs": [],
   "source": [
    "# 交叉熵误差\n",
    "def cross_entropy_error(y, t):\n",
    "    delta = 1e-7\n",
    "    return -np.sum(t * np.log(y + delta))"
   ],
   "metadata": {
    "collapsed": false,
    "ExecuteTime": {
     "start_time": "2023-05-31T09:18:51.019458Z",
     "end_time": "2023-05-31T09:18:51.097249Z"
    }
   }
  },
  {
   "cell_type": "code",
   "execution_count": 6,
   "outputs": [
    {
     "data": {
      "text/plain": "0.510825457099338"
     },
     "execution_count": 6,
     "metadata": {},
     "output_type": "execute_result"
    }
   ],
   "source": [
    "t = [0, 0, 1, 0, 0, 0, 0, 0, 0, 0]\n",
    "y = [0.1, 0.05, 0.6, 0.0, 0.05, 0.1, 0.0, 0.1, 0.0, 0.0]  # 正确标签对应输出为0.6\n",
    "cross_entropy_error(np.array(y), np.array(t))"
   ],
   "metadata": {
    "collapsed": false,
    "ExecuteTime": {
     "start_time": "2023-05-31T09:18:51.036412Z",
     "end_time": "2023-05-31T09:18:51.098246Z"
    }
   }
  },
  {
   "cell_type": "code",
   "execution_count": 7,
   "outputs": [
    {
     "data": {
      "text/plain": "2.302584092994546"
     },
     "execution_count": 7,
     "metadata": {},
     "output_type": "execute_result"
    }
   ],
   "source": [
    "y = [0.1, 0.05, 0.1, 0.0, 0.05, 0.1, 0.0, 0.6, 0.0, 0.0]  # 正确标签对应输出为0.1\n",
    "cross_entropy_error(np.array(y), np.array(t))"
   ],
   "metadata": {
    "collapsed": false,
    "ExecuteTime": {
     "start_time": "2023-05-31T09:18:51.050375Z",
     "end_time": "2023-05-31T09:18:51.098246Z"
    }
   }
  },
  {
   "cell_type": "markdown",
   "source": [
    "### 4.2.3 mini-batch学习\n",
    "\n",
    "所有训练数据的损失函数的总和\n",
    "$$ E = - \\frac{1}{N} \\sum_n \\sum_k t_{nk} \\log{y_{nk}} \\tag{(4.3)} $$\n",
    "\n",
    "**mini-batch 学习**：神经网络的学习也是从训练数据中选出一批数据（称为 mini-batch, 小批量），然后对每个 mini-batch 进行学习。"
   ],
   "metadata": {
    "collapsed": false
   }
  },
  {
   "cell_type": "code",
   "execution_count": 8,
   "outputs": [
    {
     "name": "stdout",
     "output_type": "stream",
     "text": [
      "(60000, 784)\n",
      "(60000, 10)\n"
     ]
    }
   ],
   "source": [
    "import sys, os\n",
    "\n",
    "sys.path.append(os.pardir)\n",
    "import numpy as np\n",
    "from dataset.mnist import load_mnist\n",
    "\n",
    "(x_train, t_train), (x_test, t_test) = load_mnist(normalize=True, one_hot_label=True)\n",
    "print(x_train.shape)  # (60000, 784)\n",
    "print(t_train.shape)  # (60000, 10)"
   ],
   "metadata": {
    "collapsed": false,
    "ExecuteTime": {
     "start_time": "2023-05-31T09:18:51.066331Z",
     "end_time": "2023-05-31T09:18:51.686644Z"
    }
   }
  },
  {
   "cell_type": "code",
   "execution_count": 9,
   "outputs": [
    {
     "data": {
      "text/plain": "(array([[0., 0., 0., ..., 0., 0., 0.],\n        [0., 0., 0., ..., 0., 0., 0.],\n        [0., 0., 0., ..., 0., 0., 0.],\n        ...,\n        [0., 0., 0., ..., 0., 0., 0.],\n        [0., 0., 0., ..., 0., 0., 0.],\n        [0., 0., 0., ..., 0., 0., 0.]], dtype=float32),\n array([[1., 0., 0., 0., 0., 0., 0., 0., 0., 0.],\n        [0., 0., 0., 0., 0., 0., 0., 0., 0., 1.],\n        [0., 0., 1., 0., 0., 0., 0., 0., 0., 0.],\n        [0., 0., 0., 0., 0., 1., 0., 0., 0., 0.],\n        [0., 0., 0., 0., 0., 0., 0., 0., 1., 0.],\n        [0., 0., 0., 0., 0., 0., 1., 0., 0., 0.],\n        [1., 0., 0., 0., 0., 0., 0., 0., 0., 0.],\n        [1., 0., 0., 0., 0., 0., 0., 0., 0., 0.],\n        [0., 0., 0., 0., 0., 0., 1., 0., 0., 0.],\n        [1., 0., 0., 0., 0., 0., 0., 0., 0., 0.]]))"
     },
     "execution_count": 9,
     "metadata": {},
     "output_type": "execute_result"
    }
   ],
   "source": [
    "train_size = x_train.shape[0]\n",
    "batch_size = 10\n",
    "batch_mask = np.random.choice(train_size, batch_size)  # 返回被选数据的索引的数组\n",
    "x_batch = x_train[batch_mask]\n",
    "t_batch = t_train[batch_mask]\n",
    "x_batch, t_batch"
   ],
   "metadata": {
    "collapsed": false,
    "ExecuteTime": {
     "start_time": "2023-05-31T09:18:51.690636Z",
     "end_time": "2023-05-31T09:18:51.753757Z"
    }
   }
  },
  {
   "cell_type": "code",
   "execution_count": 10,
   "outputs": [
    {
     "data": {
      "text/plain": "array([4789, 5863, 5372, 1660, 3395, 4285, 1749, 5090,  110, 3485])"
     },
     "execution_count": 10,
     "metadata": {},
     "output_type": "execute_result"
    }
   ],
   "source": [
    "np.random.choice(6000, 10)"
   ],
   "metadata": {
    "collapsed": false,
    "ExecuteTime": {
     "start_time": "2023-05-31T09:18:51.719824Z",
     "end_time": "2023-05-31T09:18:51.755724Z"
    }
   }
  },
  {
   "cell_type": "markdown",
   "source": [
    "### 4.2.4 mini-batch 版交叉熵误差的实现"
   ],
   "metadata": {
    "collapsed": false
   }
  },
  {
   "cell_type": "code",
   "execution_count": 11,
   "outputs": [],
   "source": [
    "def cross_entropy_error(y, t):\n",
    "    if y.ndim == 1:\n",
    "        t = t.reshape(1, t.size)\n",
    "        y = y.reshape(1, y.size)\n",
    "\n",
    "    batch_size = y.shape[0]\n",
    "    return -np.sum(t * np.log(y + 1e-7)) / batch_size"
   ],
   "metadata": {
    "collapsed": false,
    "ExecuteTime": {
     "start_time": "2023-05-31T09:18:51.735778Z",
     "end_time": "2023-05-31T09:18:51.755724Z"
    }
   }
  },
  {
   "cell_type": "code",
   "execution_count": 12,
   "outputs": [],
   "source": [
    "# 当监督数据是标签形式（非 one-hot 表示，而是像“2”“7”这样的标签）时，交叉熵误差的代码实现。\n",
    "def cross_entropy_error(y, t):\n",
    "    if y.ndim == 1:\n",
    "        t = t.reshape(1, t.size)\n",
    "        y = y.reshape(1, y.size)\n",
    "\n",
    "    batch_size = y.shape[0]\n",
    "    return -np.sum(np.log(y[np.arange(batch_size), t] + 1e-7)) / batch_size"
   ],
   "metadata": {
    "collapsed": false,
    "ExecuteTime": {
     "start_time": "2023-05-31T09:18:51.750739Z",
     "end_time": "2023-05-31T09:18:51.839437Z"
    }
   }
  },
  {
   "cell_type": "markdown",
   "source": [
    "### 4.2.5 为何要设定损失函数\n",
    "\n",
    "“导数”在神经网络学习中的作用。\n",
    "\n",
    "在神经网络的学习中，寻找最优参数（权重和偏置）时，要寻找使损失函数的值尽可能小的参数。\n",
    "为了找到使损失函数的值尽可能小的地方，需要计算参数的导数（确切地讲是梯度），然后以这个导数为指引，\n",
    "逐步更新参数的值。\n",
    "\n",
    "    在进行神经网络的学习时，不能将识别精度作为指标。因为如果以识别精度为指标，则参数的导数在绝大多数地方都会变为0。\n",
    "\n",
    "为什么用识别精度作为指标时，参数的导数在绝大多数地方都会变成0?\n",
    "\n",
    "识别精度对微小的参数变化基本上没有什么反应，即便有反应，它的值也是不连续地、突然地变化。\n",
    "作为激活函数的阶跃函数也有同样的情况。出于相同的原因，如果使用阶跃函数作为激活函数，神经网络的学习将无法进行。\n",
    "\n",
    "sigmoid 函数的导数在任何地方都不为0。这对神经网络的学习非常重要。得益于这个斜率不会为0的性质，神经网络的学\n",
    "习得以正确进行。\n",
    "\n",
    "![图4-4](../images/图4-4.阶跃函数和sigmoid函数.PNG)\n",
    "图4-4 阶跃函数和sigmoid函数：阶跃函数的斜率在绝大多数地方都为0，而sigmoid函数的斜率（切线）不会为0"
   ],
   "metadata": {
    "collapsed": false
   }
  },
  {
   "cell_type": "markdown",
   "source": [
    "## 4.3 数值微分（numerical differentiation）\n",
    "\n",
    "梯度算法使用梯度的信息决定前进的方向。"
   ],
   "metadata": {
    "collapsed": false
   }
  },
  {
   "cell_type": "markdown",
   "source": [
    "### 4.3.1 导数（derivative）\n",
    "\n",
    "导数表示某个瞬间的变化量。\n",
    "导数的定义：\n",
    "\n",
    "$$  \\frac{\\mathrm{d} f(x)}{\\mathrm{d} x} = \\lim_{h\\to 0} \\frac{f(x+h)-f(x)}{h} \\tag{4.4} $$\n",
    "\n",
    "式（4.4）表示的导数的含义是，x的“微小变化”将导致函数f（x）的值在多大程度上发生变化。"
   ],
   "metadata": {
    "collapsed": false
   }
  },
  {
   "cell_type": "code",
   "execution_count": 13,
   "outputs": [],
   "source": [
    "# 不好的实现示例\n",
    "def numerical_diff(f, x):\n",
    "    h = 10e-50\n",
    "    return (f(x + h) - f(x)) / h"
   ],
   "metadata": {
    "collapsed": false,
    "ExecuteTime": {
     "start_time": "2023-05-31T09:18:51.766697Z",
     "end_time": "2023-05-31T09:18:51.840435Z"
    }
   }
  },
  {
   "cell_type": "markdown",
   "source": [
    "函数 numerical_diff(f, x) 的名称来源于**数值微分**的英文 numerical\n",
    "differentiation。这个函数有两个参数，即“函数 f”和“传给函数 f 的参数 x”。\n",
    "\n",
    "这段代码有两处需要改进的地方：\n",
    "* 改进1\n",
    "h 使用了 10e-50（有 50 个连续的 0 的“0.00 . . . 1”）这个微小值。但\n",
    "是，这样反而产生了**舍入误差**（rounding error）。所谓舍入误差，是指因省\n",
    "略小数的精细部分的数值（比如，小数点第 8 位以后的数值）而造成最终的计\n",
    "算结果上的误差。\n",
    "将微小值 h 改为 $10^−4$。使用 $10^−4$就可以得到正确的结果。"
   ],
   "metadata": {
    "collapsed": false
   }
  },
  {
   "cell_type": "code",
   "execution_count": 14,
   "outputs": [
    {
     "data": {
      "text/plain": "0.0"
     },
     "execution_count": 14,
     "metadata": {},
     "output_type": "execute_result"
    }
   ],
   "source": [
    "np.float32(1e-50)"
   ],
   "metadata": {
    "collapsed": false,
    "ExecuteTime": {
     "start_time": "2023-05-31T09:18:51.782357Z",
     "end_time": "2023-05-31T09:18:51.862378Z"
    }
   }
  },
  {
   "cell_type": "markdown",
   "source": [],
   "metadata": {
    "collapsed": false
   }
  },
  {
   "cell_type": "markdown",
   "source": [
    "* 改进2\n",
    "数值微分含有误差。为了减小这个误差，我们可以计算函数 f 在 (x + h) 和 (x − h) 之间的差分。\n",
    "因为这种计算方法以 x 为中心，计算它左右两边的差分，所以也称为**中心差分**（而 (x + h) 和 x 之间的差分称为\n",
    "**前向差分**）"
   ],
   "metadata": {
    "collapsed": false
   }
  },
  {
   "cell_type": "markdown",
   "source": [
    "![图 4-5 真的导数（真的切线）和数值微分（近似切线）的值不同](../images/图4-5.真的导数（真的切线）和数值微分（近似切线）的值不同.PNG)"
   ],
   "metadata": {
    "collapsed": false
   }
  },
  {
   "cell_type": "code",
   "execution_count": 15,
   "outputs": [],
   "source": [
    "def numerical_diff(f, x):\n",
    "    h = 1e-4  # 0.0001\n",
    "    return (f(x + h) - f(x - h)) / (2 * h)"
   ],
   "metadata": {
    "collapsed": false,
    "ExecuteTime": {
     "start_time": "2023-05-31T09:18:51.797319Z",
     "end_time": "2023-05-31T09:18:51.863374Z"
    }
   }
  },
  {
   "cell_type": "markdown",
   "source": [
    "利用微小的差分求导数的过程称为**数值微分**（numerical differentiation）。\n",
    "而基于数学式的推导求导数的过程，则用“**解析性**”（analytic）一词，称为“解析性求解”或者“解析性求导”。\n",
    "比如，$y = x^2$ 的导数，可以通过 $\\frac{\\mathrm d y}{\\mathrm d x} = 2x$ 解析性地求解出来。因此，当 x = 2 时，\n",
    "y 的导数为 4。解析性求导得到的导数是不含误差的“真的导数”。\n",
    "\n",
    "中心差分\n",
    "前向差分"
   ],
   "metadata": {
    "collapsed": false
   }
  },
  {
   "cell_type": "markdown",
   "source": [
    "### 4.3.2 数值微分的例子\n",
    "$$ y = 0.01x^2 + 0.1x \\tag{4.5} $$"
   ],
   "metadata": {
    "collapsed": false
   }
  },
  {
   "cell_type": "code",
   "execution_count": 16,
   "outputs": [],
   "source": [
    "def function_1(x):\n",
    "    return 0.01 * x ** 2 + 0.1 * x"
   ],
   "metadata": {
    "collapsed": false,
    "ExecuteTime": {
     "start_time": "2023-05-31T09:18:51.812277Z",
     "end_time": "2023-05-31T09:18:51.864370Z"
    }
   }
  },
  {
   "cell_type": "code",
   "execution_count": 17,
   "outputs": [
    {
     "data": {
      "text/plain": "<Figure size 640x480 with 1 Axes>",
      "image/png": "[encoded data removed]"
     },
     "metadata": {},
     "output_type": "display_data"
    }
   ],
   "source": [
    "import numpy as np\n",
    "import matplotlib.pylab as plt\n",
    "\n",
    "x = np.arange(0.0, 20.0, 0.1)  # 以 0.1 为单位，从 0 到 20 的数组 x\n",
    "y = function_1(x)\n",
    "plt.xlabel(\"x\")\n",
    "plt.ylabel(\"f(x)\")\n",
    "plt.plot(x, y)\n",
    "plt.show()"
   ],
   "metadata": {
    "collapsed": false,
    "ExecuteTime": {
     "start_time": "2023-05-31T09:18:51.830462Z",
     "end_time": "2023-05-31T09:18:51.970046Z"
    }
   }
  },
  {
   "cell_type": "code",
   "execution_count": 18,
   "outputs": [
    {
     "data": {
      "text/plain": "(0.1999999999990898, 0.2999999999986347)"
     },
     "execution_count": 18,
     "metadata": {},
     "output_type": "execute_result"
    }
   ],
   "source": [
    "numerical_diff(function_1, 5), numerical_diff(function_1, 10)"
   ],
   "metadata": {
    "collapsed": false,
    "ExecuteTime": {
     "start_time": "2023-05-31T09:18:51.971019Z",
     "end_time": "2023-05-31T09:18:52.050805Z"
    }
   }
  },
  {
   "cell_type": "markdown",
   "source": [
    "### 4.3.3 偏导数\n",
    "\n",
    "$$ f(x_0, x_1) = x_0^2 + x_1^2 \\tag{4.6} $$\n"
   ],
   "metadata": {
    "collapsed": false
   }
  },
  {
   "cell_type": "code",
   "execution_count": 19,
   "outputs": [],
   "source": [
    "def function_2(x):\n",
    "    return x[0] ** 2 + x[1] ** 2\n",
    "\n",
    "# 或者 return np.sum(x**2)"
   ],
   "metadata": {
    "collapsed": false,
    "ExecuteTime": {
     "start_time": "2023-05-31T09:18:51.986976Z",
     "end_time": "2023-05-31T09:18:52.074985Z"
    }
   }
  },
  {
   "cell_type": "markdown",
   "source": [
    "![](../images/图4-8.PNG)"
   ],
   "metadata": {
    "collapsed": false
   }
  },
  {
   "cell_type": "markdown",
   "source": [
    "有多个变量的函数的导数称为**偏导数**。\n",
    "\n",
    "用数学式表\n",
    "示的话，可以写成 $ \\frac{\\partial f}{\\partial x_0}$ 、 $ \\frac{\\partial f}{\\partial x_1}$  。"
   ],
   "metadata": {
    "collapsed": false
   }
  },
  {
   "cell_type": "code",
   "execution_count": 20,
   "outputs": [],
   "source": [
    "def function_tmp1(x0):\n",
    "    return x0 * x0 + 0.4 ** 2.0"
   ],
   "metadata": {
    "collapsed": false
   }
  },
  {
   "cell_type": "code",
   "execution_count": 21,
   "outputs": [
    {
     "data": {
      "text/plain": "6.000000000012662"
     },
     "execution_count": 21,
     "metadata": {},
     "output_type": "execute_result"
    }
   ],
   "source": [
    "numerical_diff(function_tmp1, 3.0)"
   ],
   "metadata": {
    "collapsed": false
   }
  },
  {
   "cell_type": "code",
   "execution_count": 22,
   "outputs": [],
   "source": [
    "def function_tmp2(x1):\n",
    "    return 3.0 ** 2.0 + x1 * x1"
   ],
   "metadata": {
    "collapsed": false
   }
  },
  {
   "cell_type": "code",
   "execution_count": 23,
   "outputs": [
    {
     "data": {
      "text/plain": "7.999999999999119"
     },
     "execution_count": 23,
     "metadata": {},
     "output_type": "execute_result"
    }
   ],
   "source": [
    "numerical_diff(function_tmp2, 4.0)"
   ],
   "metadata": {
    "collapsed": false
   }
  },
  {
   "cell_type": "markdown",
   "source": [
    "## 4.4 梯度\n",
    "\n",
    "$$ \\left (\\frac{\\partial f}{\\partial x_0} , \\frac{\\partial f}{\\partial x_1} \\right ) $$\n",
    "\n",
    "这样的由全部变量的偏导数汇总而成的向量称为**梯度**（gradient）。"
   ],
   "metadata": {
    "collapsed": false
   }
  },
  {
   "cell_type": "code",
   "execution_count": 24,
   "outputs": [],
   "source": [
    "# 计算梯度\n",
    "def numerical_gradient(f, x):\n",
    "    h = 1e-4  # 0.0001\n",
    "    grad = np.zeros_like(x)  # 生成和 x 形状相同的数组\n",
    "\n",
    "    for idx in range(x.size):\n",
    "        tmp_val = x[idx]\n",
    "        # f(x+h) 的计算\n",
    "        x[idx] = tmp_val + h\n",
    "        fxh1 = f(x)\n",
    "\n",
    "        # f(x-h) 的计算\n",
    "        x[idx] = tmp_val - h\n",
    "        fxh2 = f(x)\n",
    "        grad[idx] = (fxh1 - fxh2) / (2 * h)\n",
    "        x[idx] = tmp_val  # 还原值\n",
    "\n",
    "    return grad"
   ],
   "metadata": {
    "collapsed": false,
    "ExecuteTime": {
     "start_time": "2023-05-31T09:18:52.002945Z",
     "end_time": "2023-05-31T09:18:52.089929Z"
    }
   }
  },
  {
   "cell_type": "code",
   "execution_count": 25,
   "outputs": [
    {
     "data": {
      "text/plain": "array([6., 8.])"
     },
     "execution_count": 25,
     "metadata": {},
     "output_type": "execute_result"
    }
   ],
   "source": [
    "numerical_gradient(function_2, np.array([3.0, 4.0]))"
   ],
   "metadata": {
    "collapsed": false,
    "ExecuteTime": {
     "start_time": "2023-05-31T09:18:52.017895Z",
     "end_time": "2023-05-31T09:18:52.090931Z"
    }
   }
  },
  {
   "cell_type": "code",
   "execution_count": 26,
   "outputs": [
    {
     "data": {
      "text/plain": "array([0., 4.])"
     },
     "execution_count": 26,
     "metadata": {},
     "output_type": "execute_result"
    }
   ],
   "source": [
    "numerical_gradient(function_2, np.array([0.0, 2.0]))"
   ],
   "metadata": {
    "collapsed": false,
    "ExecuteTime": {
     "start_time": "2023-05-31T09:18:52.033851Z",
     "end_time": "2023-05-31T09:18:52.091897Z"
    }
   }
  },
  {
   "cell_type": "code",
   "execution_count": 27,
   "outputs": [
    {
     "data": {
      "text/plain": "array([6., 0.])"
     },
     "execution_count": 27,
     "metadata": {},
     "output_type": "execute_result"
    }
   ],
   "source": [
    "numerical_gradient(function_2, np.array([3.0, 0.0]))"
   ],
   "metadata": {
    "collapsed": false,
    "ExecuteTime": {
     "start_time": "2023-05-31T09:18:52.047814Z",
     "end_time": "2023-05-31T09:18:52.092896Z"
    }
   }
  },
  {
   "cell_type": "markdown",
   "source": [
    "![图4-9](../images/图4-9.png)\n",
    "图4-9 $f(x_0,x_1)=x_0^2+x_1^2$ 的梯度\n",
    "\n",
    "梯度指示的方向是各点处的函数值减小最多的方向。"
   ],
   "metadata": {
    "collapsed": false
   }
  },
  {
   "cell_type": "markdown",
   "source": [
    "### 4.4.1 梯度法\n",
    "\n",
    "函数的极小值、最小值以及被称为**鞍点**（saddle point）的地方，梯度为 0。\n",
    "\n",
    "函数的取值从当前位置沿着梯度方向前进一定距离，然后在新的地方重新求梯度，再沿着新梯度方向前进，\n",
    "如此反复，不断地沿梯度方向前进。像这样，通过不断地沿梯度方向前进，\n",
    "逐渐减小函数值的过程就是**梯度法**（gradient method）。梯度法是解决机器\n",
    "学习中最优化问题的常用方法，特别是在神经网络的学习中经常被使用。\n",
    "\n",
    "寻找最小值的梯度法称为**梯度下降法**（gradient descent method），\n",
    "寻找最大值的梯度法称为**梯度上升法**（gradient ascent method）。\n",
    "\n",
    "$$ x_0 = x_0 - \\eta \\frac {\\partial f}{\\partial x_0} \\\\\n",
    "    x_1 = x_1 - \\eta \\frac {\\partial f}{\\partial x_1} \\tag{4.7} $$\n",
    "\n",
    "\n",
    "$\\eta$ 表示更新量，在神经网络的学习中，称为**学习率**（learning rate）。学习率决定在一次学习中，应该学习多少，以及在多大程度上更新参数。\n",
    "\n",
    "在神经网络的学习中，一般会一边改变学习率的值，一边确认学习是否正确进行了。"
   ],
   "metadata": {
    "collapsed": false
   }
  },
  {
   "cell_type": "code",
   "execution_count": 28,
   "outputs": [],
   "source": [
    "# 实现梯度下降法\n",
    "def gradient_descent(f, init_x, lr=0.01, step_num=100):\n",
    "    \"\"\"\n",
    "    参数 f 是要进行最优化的函数，\n",
    "    init_x 是初始值，\n",
    "    lr 是学习率 learning rate，\n",
    "    step_num 是梯度法的重复次数\n",
    "\n",
    "    使用这个函数可以求函数的极小值，顺利的话，还可以求函数的最小值。\n",
    "    \"\"\"\n",
    "    x = init_x\n",
    "\n",
    "    for i in range(step_num):\n",
    "        grad = numerical_gradient(f, x)\n",
    "        x -= lr * grad\n",
    "\n",
    "    return x"
   ],
   "metadata": {
    "collapsed": false,
    "ExecuteTime": {
     "start_time": "2023-05-31T09:18:52.063772Z",
     "end_time": "2023-05-31T09:18:52.170688Z"
    }
   }
  },
  {
   "cell_type": "code",
   "execution_count": 29,
   "outputs": [],
   "source": [
    "def function_2(x):\n",
    "    return x[0] ** 2 + x[1] ** 2"
   ],
   "metadata": {
    "collapsed": false,
    "ExecuteTime": {
     "start_time": "2023-05-31T09:18:52.077933Z",
     "end_time": "2023-05-31T09:18:52.171683Z"
    }
   }
  },
  {
   "cell_type": "code",
   "execution_count": 30,
   "outputs": [
    {
     "data": {
      "text/plain": "array([-6.11110793e-10,  8.14814391e-10])"
     },
     "execution_count": 30,
     "metadata": {},
     "output_type": "execute_result"
    }
   ],
   "source": [
    "init_x = np.array([-3.0, 4.0])\n",
    "gradient_descent(function_2, init_x=init_x, lr=0.1, step_num=100)"
   ],
   "metadata": {
    "collapsed": false,
    "ExecuteTime": {
     "start_time": "2023-05-31T09:18:52.095886Z",
     "end_time": "2023-05-31T09:18:52.173678Z"
    }
   }
  },
  {
   "cell_type": "code",
   "execution_count": 31,
   "outputs": [],
   "source": [
    "def function_2(x):\n",
    "    return x[0] ** 2 + x[1] ** 2"
   ],
   "metadata": {
    "collapsed": false,
    "ExecuteTime": {
     "start_time": "2023-05-31T09:18:52.113839Z",
     "end_time": "2023-05-31T09:18:52.174675Z"
    }
   }
  },
  {
   "cell_type": "code",
   "execution_count": 32,
   "outputs": [
    {
     "data": {
      "text/plain": "array([-6.11110793e-10,  8.14814391e-10])"
     },
     "execution_count": 32,
     "metadata": {},
     "output_type": "execute_result"
    }
   ],
   "source": [
    "init_x = np.array([-3.0, 4.0])\n",
    "gradient_descent(function_2, init_x=init_x, lr=0.1, step_num=100)"
   ],
   "metadata": {
    "collapsed": false,
    "ExecuteTime": {
     "start_time": "2023-05-31T09:18:52.125807Z",
     "end_time": "2023-05-31T09:18:52.198638Z"
    }
   }
  },
  {
   "cell_type": "markdown",
   "source": [
    "![图 4-10](../images/图4-10.PNG)"
   ],
   "metadata": {
    "collapsed": false
   }
  },
  {
   "cell_type": "code",
   "execution_count": 33,
   "outputs": [
    {
     "data": {
      "text/plain": "array([-2.58983747e+13, -1.29524862e+12])"
     },
     "execution_count": 33,
     "metadata": {},
     "output_type": "execute_result"
    }
   ],
   "source": [
    "# 学习率过大或者过小都无法得到好的结果\n",
    "\n",
    "# 学习率过大的例子：lr=10.0\n",
    "init_x = np.array([-3.0, 4.0])\n",
    "gradient_descent(function_2, init_x=init_x, lr=10.0, step_num=100)"
   ],
   "metadata": {
    "collapsed": false,
    "ExecuteTime": {
     "start_time": "2023-05-31T09:18:52.140766Z",
     "end_time": "2023-05-31T09:18:52.199609Z"
    }
   }
  },
  {
   "cell_type": "code",
   "execution_count": 34,
   "outputs": [
    {
     "data": {
      "text/plain": "array([-2.99999994,  3.99999992])"
     },
     "execution_count": 34,
     "metadata": {},
     "output_type": "execute_result"
    }
   ],
   "source": [
    "# 学习率过小的例子：lr=1e-10\n",
    "init_x = np.array([-3.0, 4.0])\n",
    "gradient_descent(function_2, init_x=init_x, lr=1e-10, step_num=100)"
   ],
   "metadata": {
    "collapsed": false,
    "ExecuteTime": {
     "start_time": "2023-05-31T09:18:52.174675Z",
     "end_time": "2023-05-31T09:18:52.200608Z"
    }
   }
  },
  {
   "cell_type": "markdown",
   "source": [
    "实验结果表明，学习率过大的话，会发散成一个很大的值；\n",
    "反过来，学习率过小的话，基本上没怎么更新就结束了。\n",
    "也就是说，设定合适的学习率是一个很重要的问题。\n",
    "\n",
    "像学习率这样的参数称为**超参数**。这是一种和神经网络的参数（权重\n",
    "和偏置）性质不同的参数。相对于神经网络的权重参数是通过训练\n",
    "数据和学习算法自动获得的，学习率这样的超参数则是人工设定的。\n",
    "一般来说，超参数需要尝试多个值，以便找到一种可以使学习顺利\n",
    "进行的设定。"
   ],
   "metadata": {
    "collapsed": false
   }
  },
  {
   "cell_type": "markdown",
   "source": [
    "### 4.4.2 神经网络的梯度\n",
    "\n",
    "神经网络的学习也要求梯度。这里所说的梯度是指损失函数关于权重参数的梯度。\n",
    "\n",
    "有一个只有一个形状为 2 × 3 的权重 $W$ 的神经网络，损失函数用 $L$ 表示。\n",
    "此时，梯度可以用 $\\frac{\\partial L}{\\partial W}$表示。\n",
    "\n",
    "$$\n",
    "W =\n",
    "\\begin{pmatrix}\n",
    " w_{11} & w_{12} & w_{13} \\\\\n",
    " w_{21} & w_{22} & w_{23} \\\\\n",
    "\\end{pmatrix}\n",
    "\\\\\n",
    "\\frac{\\partial L}{\\partial W} =\n",
    "\n",
    "\\begin{pmatrix}\n",
    " \\frac{\\partial L}{\\partial w_{11}} & \\frac{\\partial L}{\\partial w_{12}} & \\frac{\\partial L}{\\partial w_{13}} \\\\\n",
    " \\frac{\\partial L}{\\partial w_{21}} & \\frac{\\partial L}{\\partial w_{22}} & \\frac{\\partial L}{\\partial w_{23}} \\\\\n",
    "\\end{pmatrix}\n",
    "\n",
    "\\tag{4.8}\n",
    "$$\n",
    "\n",
    "$\\frac{\\partial L}{\\partial W}$ 的元素由各个元素关于 $W$ 的偏导数构成。\n",
    "$\\frac{\\partial L}{\\partial w_{11}}$ 表示当 $w_{11}$ 稍微变化时，损失函数 $L$ 会发生多大变化。"
   ],
   "metadata": {
    "collapsed": false
   }
  },
  {
   "cell_type": "code",
   "execution_count": 35,
   "outputs": [],
   "source": [
    "import sys, os\n",
    "\n",
    "sys.path.append(os.pardir)\n",
    "import numpy as np\n",
    "from common.functions import softmax, cross_entropy_error\n",
    "from common.gradient import numerical_gradient\n",
    "\n",
    "\n",
    "class simpleNet:\n",
    "    def __init__(self):\n",
    "        self.W = np.random.randn(2, 3)  # 用高斯分布进行初始化\n",
    "\n",
    "    # 预测\n",
    "    def predict(self, x):\n",
    "        return np.dot(x, self.W)\n",
    "\n",
    "    def loss(self, x, t):\n",
    "        z = self.predict(x)\n",
    "        y = softmax(z)\n",
    "        loss = cross_entropy_error(y, t)\n",
    "        return loss"
   ],
   "metadata": {
    "collapsed": false,
    "ExecuteTime": {
     "start_time": "2023-05-31T09:18:52.190633Z",
     "end_time": "2023-05-31T09:18:52.280157Z"
    }
   }
  },
  {
   "cell_type": "code",
   "execution_count": 36,
   "outputs": [
    {
     "name": "stdout",
     "output_type": "stream",
     "text": [
      "[[-0.41313515  0.79393902  1.46035548]\n",
      " [ 0.21521711 -0.18401158  0.71473986]]\n"
     ]
    }
   ],
   "source": [
    "net = simpleNet()\n",
    "print(net.W)  # 权重参数"
   ],
   "metadata": {
    "collapsed": false,
    "ExecuteTime": {
     "start_time": "2023-05-31T09:18:52.237508Z",
     "end_time": "2023-05-31T09:18:52.309067Z"
    }
   }
  },
  {
   "cell_type": "code",
   "execution_count": 37,
   "outputs": [
    {
     "name": "stdout",
     "output_type": "stream",
     "text": [
      "[-0.05418569  0.31075298  1.51947917]\n"
     ]
    }
   ],
   "source": [
    "x = np.array([0.6, 0.9])\n",
    "p = net.predict(x)\n",
    "print(p)"
   ],
   "metadata": {
    "collapsed": false,
    "ExecuteTime": {
     "start_time": "2023-05-31T09:18:52.253465Z",
     "end_time": "2023-05-31T09:18:52.310037Z"
    }
   }
  },
  {
   "cell_type": "code",
   "execution_count": 38,
   "outputs": [
    {
     "data": {
      "text/plain": "2"
     },
     "execution_count": 38,
     "metadata": {},
     "output_type": "execute_result"
    }
   ],
   "source": [
    "np.argmax(p)  # 最大值的索引"
   ],
   "metadata": {
    "collapsed": false,
    "ExecuteTime": {
     "start_time": "2023-05-31T09:18:52.268024Z",
     "end_time": "2023-05-31T09:18:52.331976Z"
    }
   }
  },
  {
   "cell_type": "code",
   "execution_count": 39,
   "outputs": [
    {
     "data": {
      "text/plain": "0.40936500393647984"
     },
     "execution_count": 39,
     "metadata": {},
     "output_type": "execute_result"
    }
   ],
   "source": [
    "t = np.array([0, 0, 1])  # 正确解标签\n",
    "net.loss(x, t)"
   ],
   "metadata": {
    "collapsed": false,
    "ExecuteTime": {
     "start_time": "2023-05-31T09:18:52.300066Z",
     "end_time": "2023-05-31T09:18:52.432705Z"
    }
   }
  },
  {
   "cell_type": "code",
   "execution_count": 40,
   "outputs": [],
   "source": [
    "def f(W):\n",
    "    return net.loss(x, t)"
   ],
   "metadata": {
    "collapsed": false,
    "ExecuteTime": {
     "start_time": "2023-05-31T09:18:52.319011Z",
     "end_time": "2023-05-31T09:18:52.433703Z"
    }
   }
  },
  {
   "cell_type": "code",
   "execution_count": 41,
   "outputs": [
    {
     "name": "stdout",
     "output_type": "stream",
     "text": [
      "[[ 0.0825909   0.11896605 -0.20155695]\n",
      " [ 0.12388635  0.17844908 -0.30233543]]\n"
     ]
    }
   ],
   "source": [
    "dW = numerical_gradient(f, net.W)\n",
    "print(dW)"
   ],
   "metadata": {
    "collapsed": false,
    "ExecuteTime": {
     "start_time": "2023-05-31T09:18:52.333971Z",
     "end_time": "2023-05-31T09:18:52.434701Z"
    }
   }
  },
  {
   "cell_type": "code",
   "execution_count": 42,
   "outputs": [],
   "source": [
    "# Python 中如果定义的是简单的函数，可以使用 lambda 表示法。\n",
    "f = lambda w: net.loss(x, t)\n",
    "dW = numerical_gradient(f, net.W)"
   ],
   "metadata": {
    "collapsed": false,
    "ExecuteTime": {
     "start_time": "2023-05-31T09:18:52.346940Z",
     "end_time": "2023-05-31T09:18:52.435698Z"
    }
   }
  },
  {
   "cell_type": "markdown",
   "source": [
    "## 4.5 学习算法的实现\n",
    "\n",
    "### 神经网络的学习步骤\n",
    "\n",
    "#### 前提\n",
    "    神经网络存在合适的权重和偏置，调整权重和偏置以便拟合训练数据的\n",
    "    过程称为“学习”。神经网络的学习分成下面 4 个步骤。\n",
    "#### 步骤 1（mini-batch）\n",
    "    从训练数据中随机选出一部分数据，这部分数据称为 mini-batch。我们\n",
    "    的目标是减小 mini-batch 的损失函数的值。\n",
    "#### 步骤 2（计算梯度）\n",
    "    为了减小 mini-batch 的损失函数的值，需要求出各个权重参数的梯度。\n",
    "    梯度表示损失函数的值减小最多的方向。\n",
    "#### 步骤 3（更新参数）\n",
    "    将权重参数沿梯度方向进行微小更新\n",
    "#### 步骤 4（重复）\n",
    "    重复步骤 1、步骤 2、步骤 3。\n",
    "\n",
    "使用的数据是随机选择的mini batch数据，所以又称为**随机梯度下降法**（stochastic gradient descent，SGD）。"
   ],
   "metadata": {
    "collapsed": false
   }
  },
  {
   "cell_type": "markdown",
   "source": [
    "### 4.5.1 2层神经网络的类"
   ],
   "metadata": {
    "collapsed": false
   }
  },
  {
   "cell_type": "code",
   "execution_count": 43,
   "outputs": [
    {
     "data": {
      "text/plain": "(10,)"
     },
     "execution_count": 43,
     "metadata": {},
     "output_type": "execute_result"
    }
   ],
   "source": [
    "from ch04.two_layer_net import TwoLayerNet\n",
    "\n",
    "net = TwoLayerNet(input_size=784, hidden_size=100, output_size=10)\n",
    "net.params['W1'].shape  # (784, 100)\n",
    "net.params['b1'].shape  # (100,)\n",
    "net.params['W2'].shape  # (100, 10)\n",
    "net.params['b2'].shape  # (10,)"
   ],
   "metadata": {
    "collapsed": false,
    "ExecuteTime": {
     "start_time": "2023-05-31T09:18:52.362893Z",
     "end_time": "2023-05-31T09:18:52.435698Z"
    }
   }
  },
  {
   "cell_type": "code",
   "execution_count": 44,
   "outputs": [],
   "source": [
    "x = np.random.rand(100, 784)  # 伪输入数据（100 笔）\n",
    "y = net.predict(x)"
   ],
   "metadata": {
    "collapsed": false,
    "ExecuteTime": {
     "start_time": "2023-05-31T09:18:52.379849Z",
     "end_time": "2023-05-31T09:18:52.451655Z"
    }
   }
  },
  {
   "cell_type": "code",
   "execution_count": 45,
   "outputs": [
    {
     "name": "stdout",
     "output_type": "stream",
     "text": [
      "jj\n"
     ]
    }
   ],
   "source": [
    "x = np.random.rand(100, 784)  # 伪输入数据（100 笔）\n",
    "t = np.random.rand(100, 10)  # 伪正确解标签（100 笔）\n",
    "grads = net.numerical_gradient(x, t)  # 计算梯度\n",
    "grads['W1'].shape  # (784, 100)\n",
    "grads['b1'].shape  # (100,)\n",
    "grads['W2'].shape  # (100, 10)\n",
    "grads['b2'].shape  # (10,)\n",
    "print('jj')"
   ],
   "metadata": {
    "collapsed": false,
    "ExecuteTime": {
     "start_time": "2023-05-31T09:18:52.395805Z",
     "end_time": "2023-05-31T09:19:49.327138Z"
    }
   }
  },
  {
   "cell_type": "markdown",
   "source": [
    "### 4.5.2 mini-batch的实现\n",
    "\n",
    "mini-batch学习：从训练数据中随机选择一部分数据（称为mini-batch），\n",
    "再以这些mini-batch为对象，使用梯度法更新参数的过程。\n",
    "\n",
    "![图4-11.损失函数的推移](../images/图4-11.损失函数的推移.PNG)\n",
    "图4-11　损失函数的推移\n",
    "\n",
    "### 4.5.3 基于测试数据的评价\n"
   ],
   "metadata": {
    "collapsed": false
   }
  },
  {
   "cell_type": "code",
   "execution_count": 48,
   "outputs": [
    {
     "name": "stdout",
     "output_type": "stream",
     "text": [
      "train acc, test acc | 0.10441666666666667, 0.1028\n",
      "train acc, test acc | 0.7903833333333333, 0.7941\n",
      "train acc, test acc | 0.8765, 0.8816\n",
      "train acc, test acc | 0.8996, 0.9041\n",
      "train acc, test acc | 0.9082333333333333, 0.9129\n",
      "train acc, test acc | 0.9146333333333333, 0.9186\n",
      "train acc, test acc | 0.91885, 0.9213\n",
      "train acc, test acc | 0.9244, 0.9255\n",
      "train acc, test acc | 0.9275, 0.9284\n",
      "train acc, test acc | 0.9310833333333334, 0.9316\n",
      "train acc, test acc | 0.9340166666666667, 0.9358\n",
      "train acc, test acc | 0.93595, 0.937\n",
      "train acc, test acc | 0.93925, 0.9405\n",
      "train acc, test acc | 0.9409666666666666, 0.9413\n",
      "train acc, test acc | 0.94325, 0.9445\n",
      "train acc, test acc | 0.9461333333333334, 0.9452\n",
      "train acc, test acc | 0.9480333333333333, 0.947\n"
     ]
    }
   ],
   "source": [
    "import numpy as np\n",
    "from dataset.mnist import load_mnist\n",
    "from two_layer_net import TwoLayerNet\n",
    "\n",
    "(x_train, t_train), (x_test, t_test) = load_mnist(normalize=True, one_hot_label=True)\n",
    "\n",
    "train_loss_list = []\n",
    "train_acc_list = []\n",
    "test_acc_list = []\n",
    "# 平均每个epoch的重复次数\n",
    "iter_per_epoch = max(train_size / batch_size, 1)\n",
    "\n",
    "# 超参数\n",
    "iters_num = 10000\n",
    "batch_size = 100\n",
    "learning_rate = 0.1\n",
    "\n",
    "network = TwoLayerNet(input_size=784, hidden_size=50, output_size=10)\n",
    "\n",
    "for i in range(iters_num):\n",
    "    # 获取mini-batch\n",
    "    batch_mask = np.random.choice(train_size, batch_size)\n",
    "    x_batch = x_train[batch_mask]\n",
    "    t_batch = t_train[batch_mask]\n",
    "\n",
    "    # 计算梯度\n",
    "    # grad = network.numerical_gradient(x_batch, t_batch)\n",
    "    grad = network.gradient(x_batch, t_batch)  # 高速版\n",
    "\n",
    "    # 更新参数\n",
    "    for key in ('W1', 'b1', 'W2', 'b2'):\n",
    "        network.params[key] -= learning_rate * grad[key]\n",
    "\n",
    "    loss = network.loss(x_batch, t_batch)\n",
    "    train_loss_list.append(loss)\n",
    "    # 计算每个epoch的识别精度\n",
    "    if i % iter_per_epoch == 0:\n",
    "        train_acc = network.accuracy(x_train, t_train)\n",
    "        test_acc = network.accuracy(x_test, t_test)\n",
    "        train_acc_list.append(train_acc)\n",
    "        test_acc_list.append(test_acc)\n",
    "        print(\"train acc, test acc | \" + str(train_acc) + \", \" + str(test_acc))"
   ],
   "metadata": {
    "collapsed": false
   }
  },
  {
   "cell_type": "markdown",
   "source": [
    "\n",
    "![图4-12.训练数据和测试数据的识别精度的推移（横轴的单位是epoch）](../images/图4-12.训练数据和测试数据的识别精度的推移（横轴的单位是epoch）.PNG)\n",
    "图4-12.训练数据和测试数据的识别精度的推移（横轴的单位是epoch）"
   ],
   "metadata": {
    "collapsed": false
   }
  },
  {
   "cell_type": "markdown",
   "source": [
    "## 4.6 小结\n",
    "\n",
    "* 机器学习中使用的数据集分为训练数据和测试数据。\n",
    "* 神经网络用训练数据进行学习，并用测试数据评价学习到的模型的泛化能力。\n",
    "* 神经网络的学习以损失函数为指标，更新权重参数，以使损失函数的值减小。\n",
    "* 利用某个给定的微小值的差分求导数的过程，称为数值微分。\n",
    "* 利用数值微分，可以计算权重参数的梯度。\n",
    "* 数值微分虽然费时间，但是实现起来很简单。下一章中要实现的稍\n",
    "微复杂一些的误差反向传播法可以高速地计算梯度。"
   ],
   "metadata": {
    "collapsed": false
   }
  }
 ],
 "metadata": {
  "kernelspec": {
   "display_name": "Python 3",
   "language": "python",
   "name": "python3"
  },
  "language_info": {
   "codemirror_mode": {
    "name": "ipython",
    "version": 2
   },
   "file_extension": ".py",
   "mimetype": "text/x-python",
   "name": "python",
   "nbconvert_exporter": "python",
   "pygments_lexer": "ipython2",
   "version": "2.7.6"
  }
 },
 "nbformat": 4,
 "nbformat_minor": 0
}
