{
 "cells": [
  {
   "cell_type": "markdown",
   "source": [
    "# 第2章 感知机\n",
    "\n",
    "感知机（perceptron）算法\n",
    "感知机也是作为神经网络（深度学习）的起源算法。"
   ],
   "metadata": {
    "collapsed": false
   }
  },
  {
   "cell_type": "markdown",
   "source": [
    "## 2.1 感知机是什么\n",
    "\n",
    "感知机接收多个输入信号，输出一个信号。\n",
    "\n",
    "![图2-1.有两个输入的感知机](../images/图2-1.有两个输入的感知机.PNG)\n",
    "\n",
    "$$\n",
    "    x_1、x_2是输入信号，y是输出信号，w_1、w_2是权重\n",
    "$$\n",
    "\n",
    "感知机的数学表达：\n",
    "\n",
    "$$ y = \\begin{cases} 0  \\ (w_1x_1 + w_2x_2 \\le \\theta) \\\\  0 \\ (w_1x_1 + w_2x_2 > \\theta) \\end{cases} \\tag{2.1} $$\n",
    "\n",
    "## 2.2 简单的逻辑电路\n",
    "\n",
    "### 2.2.1 与门\n",
    "\n",
    "![图2-2.与门的真值表](../images/图2-2.与门的真值表.PNG)\n",
    "\n",
    "### 2.2.2 与非门和或门\n",
    "\n",
    "![图2-3.与非门的真值表](../images/图2-3.与非门的真值表.PNG)\n",
    "![图2-4.或门的真值表](../images/图2-4.或门的真值表.PNG)\n",
    "\n",
    "机器学习的课题就是将决定参数的工作交由计算机自动进行。\n",
    "**学习**是确定合适的参数的过程。"
   ],
   "metadata": {
    "collapsed": false
   }
  },
  {
   "cell_type": "markdown",
   "source": [
    "## 2.3 感知机的实现\n",
    "\n",
    "\n",
    "\n",
    "### 2.3.1 简单的实现"
   ],
   "metadata": {
    "collapsed": false
   }
  },
  {
   "cell_type": "code",
   "execution_count": 3,
   "outputs": [
    {
     "data": {
      "text/plain": "1"
     },
     "execution_count": 3,
     "metadata": {},
     "output_type": "execute_result"
    }
   ],
   "source": [
    "def AND(x1, x2):\n",
    "    w1, w2, theta = 0.5, 0.5, 0.7\n",
    "    tmp = x1 * w1 + x2 * w2\n",
    "    if tmp <= theta:\n",
    "        return 0\n",
    "    elif tmp > theta:\n",
    "        return 1\n",
    "\n",
    "\n",
    "AND(0, 0)\n",
    "AND(1, 0)\n",
    "AND(0, 1)\n",
    "AND(1, 1)"
   ],
   "metadata": {
    "collapsed": false
   }
  },
  {
   "cell_type": "markdown",
   "source": [
    "### 2.3.2 导入偏置和权重\n",
    "\n",
    "$$ y = \\begin{cases} 0  \\ (b + w_1x_1 + w_2x_2 \\le 0) \\\\  1 \\ (b + w_1x_1 + w_2x_2 > 0) \\end{cases} \\tag{2.2} $$\n",
    "\n",
    "$b$ 称为**偏置**，$w_1,w_2$ 称为**权重**"
   ],
   "metadata": {
    "collapsed": false
   }
  },
  {
   "cell_type": "code",
   "execution_count": 4,
   "outputs": [
    {
     "data": {
      "text/plain": "array([0. , 0.5])"
     },
     "execution_count": 4,
     "metadata": {},
     "output_type": "execute_result"
    }
   ],
   "source": [
    "import numpy as np\n",
    "\n",
    "x = np.array([0, 1])  # 输入\n",
    "w = np.array([0.5, 0.5])  # 权重\n",
    "b = -0.7  # 偏置\n",
    "\n",
    "w * x"
   ],
   "metadata": {
    "collapsed": false
   }
  },
  {
   "cell_type": "code",
   "execution_count": 5,
   "outputs": [
    {
     "data": {
      "text/plain": "0.5"
     },
     "execution_count": 5,
     "metadata": {},
     "output_type": "execute_result"
    }
   ],
   "source": [
    "np.sum(w * x)"
   ],
   "metadata": {
    "collapsed": false
   }
  },
  {
   "cell_type": "code",
   "execution_count": 6,
   "outputs": [
    {
     "data": {
      "text/plain": "-0.19999999999999996"
     },
     "execution_count": 6,
     "metadata": {},
     "output_type": "execute_result"
    }
   ],
   "source": [
    "np.sum(w * x) + b"
   ],
   "metadata": {
    "collapsed": false
   }
  },
  {
   "cell_type": "markdown",
   "source": [
    "### 2.3.3 权重和偏置的实现\n",
    "\n",
    "权重是控制输入信号的重要性的参数，偏置是调整神经元被激活的容易程度的参数。\n"
   ],
   "metadata": {
    "collapsed": false
   }
  },
  {
   "cell_type": "code",
   "execution_count": 7,
   "outputs": [],
   "source": [
    "def AND(x1, x2):\n",
    "    x = np.array([x1, x2])  # 输入\n",
    "    w = np.array([0.5, 0.5])  # 权重\n",
    "    b = -0.7  # 偏置\n",
    "    tmp = np.sum(w * x) + b\n",
    "    if tmp <= 0:\n",
    "        return 0\n",
    "    else:\n",
    "        return 1\n",
    "\n",
    "\n",
    "# 与非门，仅权重和偏置和AND不同\n",
    "def NAND(x1, x2):\n",
    "    x = np.array([x1, x2])  # 输入\n",
    "    w = np.array([-0.5, -0.5])  # 权重\n",
    "    b = 0.7  # 偏置\n",
    "    tmp = np.sum(w * x) + b\n",
    "    if tmp <= 0:\n",
    "        return 0\n",
    "    else:\n",
    "        return 1\n",
    "\n",
    "\n",
    "# 或门，仅权重和偏置和AND不同\n",
    "def OR(x1, x2):\n",
    "    x = np.array([x1, x2])\n",
    "    w = np.array([0.5, 0.5])\n",
    "    b = -0.2\n",
    "    tmp = np.sum(w * x) + b\n",
    "    if tmp <= 0:\n",
    "        return 0\n",
    "    else:\n",
    "        return 1"
   ],
   "metadata": {
    "collapsed": false
   }
  },
  {
   "cell_type": "markdown",
   "source": [
    "与门、与非门、或门是具有相同构造的感知机，区别只在于权重参数的值。"
   ],
   "metadata": {
    "collapsed": false
   }
  },
  {
   "cell_type": "markdown",
   "source": [
    "## 2.4 感知机的局限性\n",
    "\n",
    "### 2.4.1 异或门\n",
    "\n",
    "![图2-5.异或门的真值表](../images/图2-5.异或门的真值表.PNG)\n",
    "图2-5.异或门的真值表\n",
    "\n",
    "![图2-6.感知机的可视化：灰色区域是感知机输出0的区域，这个区域与或门的性质一致](../images/图2-6.感知机的可视化：灰色区域是感知机输出0的区域，这个区域与或门的性质一致.PNG)\n",
    "图2-6.感知机的可视化：灰色区域是感知机输出0的区域，这个区域与或门的性质一致\n",
    "\n",
    "![图2-7](../images/图2-7.PNG)\n",
    "图2-7\n",
    "\n",
    "无法用一条直线将异或门的输出分隔开\n",
    "\n",
    "### 2.4.2 线性和非线性\n",
    "\n",
    "![图2-8](../images/图2-8.PNG)\n",
    "图2-8\n",
    "\n",
    "由图2-6直线分割而成的空间称为**线性**空间\n",
    "由图2-8曲线分割而成的空间称为**非线性**空间"
   ],
   "metadata": {
    "collapsed": false
   }
  },
  {
   "cell_type": "markdown",
   "source": [
    "## 2.5 多层感知机\n",
    "\n",
    "感知机可以“叠加层”。\n",
    "\n",
    "### 2.5.1 已有门电路的组合\n",
    "![图2-9.与门、与非门、或门的符号](../images/图2-9.与门、与非门、或门的符号.PNG)\n",
    "图2-9.与门、与非门、或门的符号\n",
    "\n",
    "![图2-10.将与门、与非门、或门代入到“？”中，就可以实现异或门！](../images/图2-10.将与门、与非门、或门代入到“？”中，就可以实现异或门！.PNG)\n",
    "图2-10.将与门、与非门、或门代入到“？”中，就可以实现异或门！\n",
    "\n",
    "![图2-11.通过组合与门、与非门、或门实现异或门](../images/图2-11.通过组合与门、与非门、或门实现异或门.PNG)\n",
    "图2-11.通过组合与门、与非门、或门实现异或门\n",
    "\n",
    "![图2-12.异或门的真值表](../images/图2-12.异或门的真值表.PNG)\n",
    "图2-12.异或门的真值表\n",
    "\n"
   ],
   "metadata": {
    "collapsed": false
   }
  },
  {
   "cell_type": "markdown",
   "source": [
    "### 2.5.2 异或门的实现"
   ],
   "metadata": {
    "collapsed": false
   }
  },
  {
   "cell_type": "code",
   "execution_count": 8,
   "outputs": [
    {
     "data": {
      "text/plain": "(0, 1, 1, 0)"
     },
     "execution_count": 8,
     "metadata": {},
     "output_type": "execute_result"
    }
   ],
   "source": [
    "def XOR(x1, x2):\n",
    "    s1 = NAND(x1, x2)\n",
    "    s2 = OR(x1, x2)\n",
    "    y = AND(s1, s2)\n",
    "    return y\n",
    "\n",
    "\n",
    "XOR(0, 0), XOR(0, 1), XOR(1, 0), XOR(1, 1) # (0, 1, 1, 0)"
   ],
   "metadata": {
    "collapsed": false
   }
  },
  {
   "cell_type": "markdown",
   "source": [
    "\n",
    "![图2-13.用感知机表示异或门](../images/图2-13.用感知机表示异或门.PNG)\n",
    "图2-13.用感知机表示异或门\n",
    "\n",
    "与门、或门是单层感知机，异或门是2层感知机。\n",
    "叠加了多层的感知机称为**多层感知机（multi-layered-perceptron）**。"
   ],
   "metadata": {
    "collapsed": false
   }
  },
  {
   "cell_type": "markdown",
   "source": [
    "## 2.6 从与非门到计算机\n",
    "\n",
    "实际上只需要通过与非门的组合，就能再现计算机的处理。说明使用感知机也可以表示计算机。\n",
    "\n",
    "已有研究证明，2层感知机（激活函数使用了非线性sigmoid函数的感知机）可以表示任意函数。\n",
    "\n",
    "感知机通过叠加层能够进行非线性的表示，理论上还可以表示计算机进行的处理。"
   ],
   "metadata": {
    "collapsed": false
   }
  },
  {
   "cell_type": "markdown",
   "source": [
    "## 2.7 小结\n",
    "\n"
   ],
   "metadata": {
    "collapsed": false
   }
  }
 ],
 "metadata": {
  "kernelspec": {
   "display_name": "Python 3",
   "language": "python",
   "name": "python3"
  },
  "language_info": {
   "codemirror_mode": {
    "name": "ipython",
    "version": 2
   },
   "file_extension": ".py",
   "mimetype": "text/x-python",
   "name": "python",
   "nbconvert_exporter": "python",
   "pygments_lexer": "ipython2",
   "version": "2.7.6"
  }
 },
 "nbformat": 4,
 "nbformat_minor": 0
}
